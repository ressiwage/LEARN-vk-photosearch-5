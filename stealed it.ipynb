{
  "cells": [
    {
      "cell_type": "code",
      "execution_count": null,
      "metadata": {},
      "outputs": [],
      "source": [
        "%%shell\n",
        "\n",
        "unzip \"LEARN-vk-photosearch-5-master.zip\"\n",
        "\n",
        "pip install pick aiohttp aiodns aiofiles annoy spacy\n",
        "python -m spacy download en_core_web_lg\n",
        "\n"
      ]
    },
    {
      "cell_type": "code",
      "execution_count": null,
      "metadata": {},
      "outputs": [],
      "source": [
        "%%shell\n",
        "\n",
        "cd LEARN-vk-photosearch-5-master\n",
        "python main.py"
      ]
    }
  ],
  "metadata": {
    "colab": {
      "provenance": []
    },
    "kernelspec": {
      "display_name": "Python 3",
      "name": "python3"
    },
    "language_info": {
      "name": "python"
    }
  },
  "nbformat": 4,
  "nbformat_minor": 0
}
